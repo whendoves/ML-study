{
 "cells": [
  {
   "cell_type": "markdown",
   "id": "0e5258b4",
   "metadata": {},
   "source": [
    "# Setup and load library"
   ]
  },
  {
   "cell_type": "code",
   "execution_count": 1,
   "id": "e5018f73",
   "metadata": {},
   "outputs": [],
   "source": [
    "import tensorflow as tf\n",
    "from tensorflow import keras\n",
    "from keras.layers import Flatten, Input, MaxPool2D, Conv2D, Dense, Dropout\n",
    "from keras.models import Model\n",
    "from keras.preprocessing.image import ImageDataGenerator\n",
    "import numpy as np\n",
    "import matplotlib.pyplot as plt\n",
    "import pandas as pd\n",
    "import seaborn as sns\n",
    "import warnings"
   ]
  },
  {
   "cell_type": "code",
   "execution_count": 2,
   "id": "4981e2be",
   "metadata": {},
   "outputs": [],
   "source": [
    "warnings.filterwarnings(action='ignore')"
   ]
  },
  {
   "cell_type": "code",
   "execution_count": 3,
   "id": "2d2db70a",
   "metadata": {},
   "outputs": [],
   "source": [
    "# Enable auto completion for Keras library\n",
    "\n",
    "%config Completer.use_jedi = False"
   ]
  },
  {
   "cell_type": "markdown",
   "id": "27e66236",
   "metadata": {},
   "source": [
    "### Loading Mnist dataset from Keras "
   ]
  },
  {
   "cell_type": "code",
   "execution_count": 4,
   "id": "9121b28c",
   "metadata": {},
   "outputs": [],
   "source": [
    "mnist = keras.datasets.mnist"
   ]
  },
  {
   "cell_type": "code",
   "execution_count": 5,
   "id": "36d77105",
   "metadata": {},
   "outputs": [],
   "source": [
    "targets = { 0: '0',\n",
    "            1: '1',\n",
    "            2: '2',\n",
    "            3: '3',\n",
    "            4: '4',\n",
    "            5: '5',\n",
    "            6: '6',\n",
    "            7: '7',\n",
    "            8: '8',\n",
    "            9: '9'}"
   ]
  },
  {
   "cell_type": "code",
   "execution_count": 6,
   "id": "8b7d8018",
   "metadata": {},
   "outputs": [],
   "source": [
    "(X_train, y_train), (X_test, y_test) = mnist.load_data()"
   ]
  },
  {
   "cell_type": "markdown",
   "id": "dcc08b26",
   "metadata": {},
   "source": [
    "### Prepare data"
   ]
  },
  {
   "cell_type": "code",
   "execution_count": 7,
   "id": "24076100",
   "metadata": {},
   "outputs": [],
   "source": [
    "X_train = X_train.astype(np.float32) / 255.\n",
    "X_test  = X_test.astype(np.float32) / 255."
   ]
  },
  {
   "cell_type": "code",
   "execution_count": 8,
   "id": "76c16058",
   "metadata": {},
   "outputs": [],
   "source": [
    "X_train = X_train.reshape(-1, 28,28,1)\n",
    "X_test  = X_test.reshape(-1, 28,28,1)"
   ]
  },
  {
   "cell_type": "markdown",
   "id": "31e15745",
   "metadata": {},
   "source": [
    "## Data Augmentation"
   ]
  },
  {
   "cell_type": "markdown",
   "id": "947943c6",
   "metadata": {},
   "source": [
    "#### To increase the diversity of data available for training models, without actually collecting new data."
   ]
  },
  {
   "cell_type": "code",
   "execution_count": 9,
   "id": "873350d5",
   "metadata": {},
   "outputs": [],
   "source": [
    "datagen = ImageDataGenerator(horizontal_flip=True)\n",
    "datagen.fit(X_train)"
   ]
  },
  {
   "cell_type": "markdown",
   "id": "8b52c781",
   "metadata": {},
   "source": [
    "### One hot encode"
   ]
  },
  {
   "cell_type": "code",
   "execution_count": 10,
   "id": "759bcf49",
   "metadata": {},
   "outputs": [],
   "source": [
    "y_train = tf.keras.utils.to_categorical(y_train, 10)\n",
    "y_test  = tf.keras.utils.to_categorical(y_test, 10)"
   ]
  },
  {
   "cell_type": "code",
   "execution_count": 11,
   "id": "36b1f261",
   "metadata": {},
   "outputs": [
    {
     "data": {
      "text/plain": [
       "<matplotlib.image.AxesImage at 0x1dd4c661fd0>"
      ]
     },
     "execution_count": 11,
     "metadata": {},
     "output_type": "execute_result"
    },
    {
     "name": "stderr",
     "output_type": "stream",
     "text": [
      "findfont: Font family ['NanumGothic'] not found. Falling back to DejaVu Sans.\n"
     ]
    },
    {
     "data": {
      "image/png": "[encoded data removed]",
      "text/plain": [
       "<Figure size 144x144 with 1 Axes>"
      ]
     },
     "metadata": {
      "needs_background": "light"
     },
     "output_type": "display_data"
    }
   ],
   "source": [
    "# Display the first image\n",
    "plt.figure(figsize=(2,2))\n",
    "plt.imshow(X_train[0].reshape(28,28), cmap='gray')"
   ]
  },
  {
   "cell_type": "markdown",
   "id": "bd8a7f55",
   "metadata": {},
   "source": [
    "# Build the model"
   ]
  },
  {
   "cell_type": "code",
   "execution_count": 13,
   "id": "60bd68d2",
   "metadata": {},
   "outputs": [],
   "source": [
    "in_put = Input(shape=(28,28,1))\n",
    "X = Conv2D(kernel_size=(3,3), filters=32, activation='relu', padding='SAME', kernel_initializer='he_normal')(in_put)\n",
    "X = MaxPool2D(pool_size=(2,2))(X)\n",
    "X = Conv2D(kernel_size=(3,3), filters=64, activation='relu')(X)\n",
    "X = MaxPool2D(pool_size=(2,2))(X)\n",
    "X = Conv2D(kernel_size=(3,3), filters=128, activation='relu')(X)\n",
    "X = Flatten()(X)\n",
    "X = Dense(128, activation='relu')(X)\n",
    "X = Dropout(0.4)(X)\n",
    "out_put = Dense(10, activation='softmax')(X)\n",
    "\n",
    "model = Model(in_put, out_put)"
   ]
  },
  {
   "cell_type": "markdown",
   "id": "c424b1df",
   "metadata": {},
   "source": [
    "# Train the model"
   ]
  },
  {
   "cell_type": "code",
   "execution_count": 14,
   "id": "0b78c286",
   "metadata": {},
   "outputs": [],
   "source": [
    "adam = keras.optimizers.Adam(learning_rate=0.001)"
   ]
  },
  {
   "cell_type": "code",
   "execution_count": 15,
   "id": "9cac779f",
   "metadata": {},
   "outputs": [],
   "source": [
    "model.compile(optimizer=adam, loss='categorical_crossentropy', metrics=['accuracy'])"
   ]
  },
  {
   "cell_type": "code",
   "execution_count": 16,
   "id": "e678560e",
   "metadata": {},
   "outputs": [
    {
     "name": "stdout",
     "output_type": "stream",
     "text": [
      "Epoch 1/10\n",
      "750/750 [==============================] - 19s 25ms/step - loss: 0.1764 - accuracy: 0.9454 - val_loss: 0.0532 - val_accuracy: 0.9850\n",
      "Epoch 2/10\n",
      "750/750 [==============================] - 19s 25ms/step - loss: 0.0577 - accuracy: 0.9825 - val_loss: 0.0438 - val_accuracy: 0.9877\n",
      "Epoch 3/10\n",
      "750/750 [==============================] - 19s 26ms/step - loss: 0.0407 - accuracy: 0.9879 - val_loss: 0.0405 - val_accuracy: 0.9877\n",
      "Epoch 4/10\n",
      "750/750 [==============================] - 19s 25ms/step - loss: 0.0307 - accuracy: 0.9903 - val_loss: 0.0305 - val_accuracy: 0.9911\n",
      "Epoch 5/10\n",
      "750/750 [==============================] - 19s 26ms/step - loss: 0.0239 - accuracy: 0.9925 - val_loss: 0.0453 - val_accuracy: 0.9873\n",
      "Epoch 6/10\n",
      "750/750 [==============================] - 19s 26ms/step - loss: 0.0209 - accuracy: 0.9931 - val_loss: 0.0362 - val_accuracy: 0.9908\n",
      "Epoch 7/10\n",
      "750/750 [==============================] - 19s 26ms/step - loss: 0.0179 - accuracy: 0.9944 - val_loss: 0.0426 - val_accuracy: 0.9906\n",
      "Epoch 8/10\n",
      "750/750 [==============================] - 19s 25ms/step - loss: 0.0148 - accuracy: 0.9950 - val_loss: 0.0328 - val_accuracy: 0.9915\n",
      "Epoch 9/10\n",
      "750/750 [==============================] - 19s 26ms/step - loss: 0.0145 - accuracy: 0.9952 - val_loss: 0.0381 - val_accuracy: 0.9910\n",
      "Epoch 10/10\n",
      "750/750 [==============================] - 19s 25ms/step - loss: 0.0114 - accuracy: 0.9963 - val_loss: 0.0486 - val_accuracy: 0.9883\n"
     ]
    }
   ],
   "source": [
    "history = model.fit(X_train, y_train, batch_size=64, epochs=10, validation_split=0.2)"
   ]
  },
  {
   "cell_type": "markdown",
   "id": "5ccfe48b",
   "metadata": {},
   "source": [
    "# Evaluate the value"
   ]
  },
  {
   "cell_type": "code",
   "execution_count": 17,
   "id": "ce1e9223",
   "metadata": {},
   "outputs": [
    {
     "name": "stdout",
     "output_type": "stream",
     "text": [
      "157/157 [==============================] - 1s 7ms/step - loss: 0.0371 - accuracy: 0.9912\n"
     ]
    },
    {
     "data": {
      "text/plain": [
       "[0.03710748627781868, 0.9911999702453613]"
      ]
     },
     "execution_count": 17,
     "metadata": {},
     "output_type": "execute_result"
    }
   ],
   "source": [
    "model.evaluate(X_test, y_test, batch_size=64)"
   ]
  },
  {
   "cell_type": "code",
   "execution_count": 22,
   "id": "88ec327d",
   "metadata": {},
   "outputs": [
    {
     "data": {
      "image/png": "[encoded data removed]",
      "text/plain": [
       "<Figure size 720x504 with 1 Axes>"
      ]
     },
     "metadata": {
      "needs_background": "light"
     },
     "output_type": "display_data"
    }
   ],
   "source": [
    "plt.figure(figsize=(10,7))\n",
    "plt.plot(history.history['loss'], '-o', label='Loss')\n",
    "plt.plot(history.history['accuracy'], '-o' ,label='Accuracy')\n",
    "plt.xlabel('Number of epochs')\n",
    "plt.ylabel('Loss & Accuracy')\n",
    "\n",
    "plt.show()"
   ]
  },
  {
   "cell_type": "markdown",
   "id": "c391a11f",
   "metadata": {},
   "source": [
    "# Test the model"
   ]
  },
  {
   "cell_type": "code",
   "execution_count": 23,
   "id": "dc91dab3",
   "metadata": {},
   "outputs": [],
   "source": [
    "predictions = model.predict(X_test)"
   ]
  },
  {
   "cell_type": "code",
   "execution_count": 24,
   "id": "c4c4f53b",
   "metadata": {},
   "outputs": [],
   "source": [
    "predictions = tf.argmax(predictions, 1).numpy()"
   ]
  },
  {
   "cell_type": "code",
   "execution_count": 26,
   "id": "4f3b0aeb",
   "metadata": {},
   "outputs": [],
   "source": [
    "y_test_data = np.argmax(y_test, axis=1)"
   ]
  },
  {
   "cell_type": "markdown",
   "id": "3dff2b91",
   "metadata": {},
   "source": [
    "### compare labels(y_test_data) with predictions(y_predictions)"
   ]
  },
  {
   "cell_type": "code",
   "execution_count": 27,
   "id": "deeb1a3f",
   "metadata": {},
   "outputs": [],
   "source": [
    "cross = pd.crosstab(y_test_data, predictions, rownames=['labels'], colnames=['predictions'])"
   ]
  },
  {
   "cell_type": "code",
   "execution_count": 28,
   "id": "169bfeca",
   "metadata": {},
   "outputs": [
    {
     "data": {
      "text/plain": [
       "<AxesSubplot:xlabel='predictions', ylabel='labels'>"
      ]
     },
     "execution_count": 28,
     "metadata": {},
     "output_type": "execute_result"
    },
    {
     "data": {
      "image/png": "[encoded data removed]",
      "text/plain": [
       "<Figure size 720x720 with 2 Axes>"
      ]
     },
     "metadata": {
      "needs_background": "light"
     },
     "output_type": "display_data"
    }
   ],
   "source": [
    "plt.figure(figsize=(10,10))\n",
    "sns.heatmap(cross, annot=True, cmap='coolwarm', fmt='g')"
   ]
  },
  {
   "cell_type": "markdown",
   "id": "2104cbf3",
   "metadata": {},
   "source": [
    "### classification report (f1, precision score)"
   ]
  },
  {
   "cell_type": "code",
   "execution_count": 29,
   "id": "d44ed458",
   "metadata": {},
   "outputs": [],
   "source": [
    "from sklearn.metrics import classification_report"
   ]
  },
  {
   "cell_type": "code",
   "execution_count": 31,
   "id": "5f6a2256",
   "metadata": {},
   "outputs": [
    {
     "name": "stdout",
     "output_type": "stream",
     "text": [
      "              precision    recall  f1-score   support\n",
      "\n",
      "           0       0.99      1.00      0.99       980\n",
      "           1       0.98      1.00      0.99      1135\n",
      "           2       1.00      0.98      0.99      1032\n",
      "           3       0.98      1.00      0.99      1010\n",
      "           4       0.99      1.00      0.99       982\n",
      "           5       1.00      0.97      0.98       892\n",
      "           6       1.00      0.99      0.99       958\n",
      "           7       0.99      0.99      0.99      1028\n",
      "           8       0.99      0.99      0.99       974\n",
      "           9       0.99      0.98      0.99      1009\n",
      "\n",
      "    accuracy                           0.99     10000\n",
      "   macro avg       0.99      0.99      0.99     10000\n",
      "weighted avg       0.99      0.99      0.99     10000\n",
      "\n"
     ]
    }
   ],
   "source": [
    "print(classification_report(y_test_data, predictions))"
   ]
  },
  {
   "cell_type": "markdown",
   "id": "d729891d",
   "metadata": {},
   "source": [
    "### Identify wrong predictions "
   ]
  },
  {
   "cell_type": "code",
   "execution_count": 35,
   "id": "a8bef4a4",
   "metadata": {},
   "outputs": [],
   "source": [
    "false_predictions = [i for i in range(y_test.shape[0]) if predictions[i] != y_test_data[i]]"
   ]
  },
  {
   "cell_type": "code",
   "execution_count": 36,
   "id": "44c7e51a",
   "metadata": {},
   "outputs": [
    {
     "data": {
      "text/plain": [
       "[92, 326, 340, 412, 435, 445, 646, 659, 674, 882]"
      ]
     },
     "execution_count": 36,
     "metadata": {},
     "output_type": "execute_result"
    }
   ],
   "source": [
    "# List the first ten wrong predictions\n",
    "false_predictions[0:10]"
   ]
  },
  {
   "cell_type": "markdown",
   "id": "458e455d",
   "metadata": {},
   "source": [
    "### print the first 25 images predicted wrong"
   ]
  },
  {
   "cell_type": "code",
   "execution_count": 38,
   "id": "f9a13745",
   "metadata": {},
   "outputs": [
    {
     "name": "stderr",
     "output_type": "stream",
     "text": [
      "findfont: Font family ['NanumGothic'] not found. Falling back to DejaVu Sans.\n"
     ]
    },
    {
     "data": {
      "image/png": "[encoded data removed]",
      "text/plain": [
       "<Figure size 720x1080 with 25 Axes>"
      ]
     },
     "metadata": {
      "needs_background": "light"
     },
     "output_type": "display_data"
    },
    {
     "data": {
      "text/plain": [
       "<Figure size 432x288 with 0 Axes>"
      ]
     },
     "metadata": {},
     "output_type": "display_data"
    }
   ],
   "source": [
    "rows = 5 \n",
    "cols = 5\n",
    "index = 0\n",
    "\n",
    "fig, ax = plt.subplots(nrows = rows, ncols = cols, figsize = (10,15))\n",
    "\n",
    "for i in range(5):\n",
    "    for j in range(5):\n",
    "        false_index = false_predictions[index]\n",
    "        ax[i][j].imshow(X_test[false_index, :,:,-1], cmap='gray')\n",
    "        ax[i][j].set_title(f\"Predictions  : {targets[predictions[false_index]]}\\nLabels : {targets[y_test_data[false_index]]}\")\n",
    "        index += 1\n",
    "        ax[i][j].axis(\"off\")\n",
    "        \n",
    "\n",
    "plt.show()\n",
    "plt.tight_layout()"
   ]
  },
  {
   "cell_type": "code",
   "execution_count": null,
   "id": "122a6bd7",
   "metadata": {},
   "outputs": [],
   "source": []
  }
 ],
 "metadata": {
  "kernelspec": {
   "display_name": "Python 3 (ipykernel)",
   "language": "python",
   "name": "python3"
  },
  "language_info": {
   "codemirror_mode": {
    "name": "ipython",
    "version": 3
   },
   "file_extension": ".py",
   "mimetype": "text/x-python",
   "name": "python",
   "nbconvert_exporter": "python",
   "pygments_lexer": "ipython3",
   "version": "3.9.6"
  }
 },
 "nbformat": 4,
 "nbformat_minor": 5
}
