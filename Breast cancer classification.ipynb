{
 "cells": [
  {
   "cell_type": "code",
   "execution_count": 133,
   "id": "cd11d2e5",
   "metadata": {},
   "outputs": [],
   "source": [
    "import numpy as np\n",
    "import pandas as pd\n",
    "from matplotlib import pyplot as plt\n",
    "import seaborn as sns\n",
    "import warnings"
   ]
  },
  {
   "cell_type": "code",
   "execution_count": 134,
   "id": "10fe7a16",
   "metadata": {},
   "outputs": [],
   "source": [
    "warnings.filterwarnings(action='ignore')"
   ]
  },
  {
   "cell_type": "code",
   "execution_count": 135,
   "id": "7dd84f39",
   "metadata": {},
   "outputs": [],
   "source": [
    "# Load dataset from scikit-learn \n",
    "from sklearn.datasets import load_breast_cancer\n",
    "data = load_breast_cancer()"
   ]
  },
  {
   "cell_type": "code",
   "execution_count": 136,
   "id": "bc3fab52",
   "metadata": {},
   "outputs": [
    {
     "data": {
      "text/plain": [
       "array([[1.799e+01, 1.038e+01, 1.228e+02, ..., 2.654e-01, 4.601e-01,\n",
       "        1.189e-01],\n",
       "       [2.057e+01, 1.777e+01, 1.329e+02, ..., 1.860e-01, 2.750e-01,\n",
       "        8.902e-02],\n",
       "       [1.969e+01, 2.125e+01, 1.300e+02, ..., 2.430e-01, 3.613e-01,\n",
       "        8.758e-02],\n",
       "       ...,\n",
       "       [1.660e+01, 2.808e+01, 1.083e+02, ..., 1.418e-01, 2.218e-01,\n",
       "        7.820e-02],\n",
       "       [2.060e+01, 2.933e+01, 1.401e+02, ..., 2.650e-01, 4.087e-01,\n",
       "        1.240e-01],\n",
       "       [7.760e+00, 2.454e+01, 4.792e+01, ..., 0.000e+00, 2.871e-01,\n",
       "        7.039e-02]])"
      ]
     },
     "execution_count": 136,
     "metadata": {},
     "output_type": "execute_result"
    }
   ],
   "source": [
    "# feature_names dataset\n",
    "data.data"
   ]
  },
  {
   "cell_type": "code",
   "execution_count": 137,
   "id": "2bc04ea0",
   "metadata": {},
   "outputs": [
    {
     "data": {
      "text/plain": [
       "array([0, 0, 0, 0, 0, 0, 0, 0, 0, 0, 0, 0, 0, 0, 0, 0, 0, 0, 0, 1, 1, 1,\n",
       "       0, 0, 0, 0, 0, 0, 0, 0, 0, 0, 0, 0, 0, 0, 0, 1, 0, 0, 0, 0, 0, 0,\n",
       "       0, 0, 1, 0, 1, 1, 1, 1, 1, 0, 0, 1, 0, 0, 1, 1, 1, 1, 0, 1, 0, 0,\n",
       "       1, 1, 1, 1, 0, 1, 0, 0, 1, 0, 1, 0, 0, 1, 1, 1, 0, 0, 1, 0, 0, 0,\n",
       "       1, 1, 1, 0, 1, 1, 0, 0, 1, 1, 1, 0, 0, 1, 1, 1, 1, 0, 1, 1, 0, 1,\n",
       "       1, 1, 1, 1, 1, 1, 1, 0, 0, 0, 1, 0, 0, 1, 1, 1, 0, 0, 1, 0, 1, 0,\n",
       "       0, 1, 0, 0, 1, 1, 0, 1, 1, 0, 1, 1, 1, 1, 0, 1, 1, 1, 1, 1, 1, 1,\n",
       "       1, 1, 0, 1, 1, 1, 1, 0, 0, 1, 0, 1, 1, 0, 0, 1, 1, 0, 0, 1, 1, 1,\n",
       "       1, 0, 1, 1, 0, 0, 0, 1, 0, 1, 0, 1, 1, 1, 0, 1, 1, 0, 0, 1, 0, 0,\n",
       "       0, 0, 1, 0, 0, 0, 1, 0, 1, 0, 1, 1, 0, 1, 0, 0, 0, 0, 1, 1, 0, 0,\n",
       "       1, 1, 1, 0, 1, 1, 1, 1, 1, 0, 0, 1, 1, 0, 1, 1, 0, 0, 1, 0, 1, 1,\n",
       "       1, 1, 0, 1, 1, 1, 1, 1, 0, 1, 0, 0, 0, 0, 0, 0, 0, 0, 0, 0, 0, 0,\n",
       "       0, 0, 1, 1, 1, 1, 1, 1, 0, 1, 0, 1, 1, 0, 1, 1, 0, 1, 0, 0, 1, 1,\n",
       "       1, 1, 1, 1, 1, 1, 1, 1, 1, 1, 1, 0, 1, 1, 0, 1, 0, 1, 1, 1, 1, 1,\n",
       "       1, 1, 1, 1, 1, 1, 1, 1, 1, 0, 1, 1, 1, 0, 1, 0, 1, 1, 1, 1, 0, 0,\n",
       "       0, 1, 1, 1, 1, 0, 1, 0, 1, 0, 1, 1, 1, 0, 1, 1, 1, 1, 1, 1, 1, 0,\n",
       "       0, 0, 1, 1, 1, 1, 1, 1, 1, 1, 1, 1, 1, 0, 0, 1, 0, 0, 0, 1, 0, 0,\n",
       "       1, 1, 1, 1, 1, 0, 1, 1, 1, 1, 1, 0, 1, 1, 1, 0, 1, 1, 0, 0, 1, 1,\n",
       "       1, 1, 1, 1, 0, 1, 1, 1, 1, 1, 1, 1, 0, 1, 1, 1, 1, 1, 0, 1, 1, 0,\n",
       "       1, 1, 1, 1, 1, 1, 1, 1, 1, 1, 1, 1, 0, 1, 0, 0, 1, 0, 1, 1, 1, 1,\n",
       "       1, 0, 1, 1, 0, 1, 0, 1, 1, 0, 1, 0, 1, 1, 1, 1, 1, 1, 1, 1, 0, 0,\n",
       "       1, 1, 1, 1, 1, 1, 0, 1, 1, 1, 1, 1, 1, 1, 1, 1, 1, 0, 1, 1, 1, 1,\n",
       "       1, 1, 1, 0, 1, 0, 1, 1, 0, 1, 1, 1, 1, 1, 0, 0, 1, 0, 1, 0, 1, 1,\n",
       "       1, 1, 1, 0, 1, 1, 0, 1, 0, 1, 0, 0, 1, 1, 1, 0, 1, 1, 1, 1, 1, 1,\n",
       "       1, 1, 1, 1, 1, 0, 1, 0, 0, 1, 1, 1, 1, 1, 1, 1, 1, 1, 1, 1, 1, 1,\n",
       "       1, 1, 1, 1, 1, 1, 1, 1, 1, 1, 1, 1, 0, 0, 0, 0, 0, 0, 1])"
      ]
     },
     "execution_count": 137,
     "metadata": {},
     "output_type": "execute_result"
    }
   ],
   "source": [
    "# Label data\n",
    "data.target"
   ]
  },
  {
   "cell_type": "code",
   "execution_count": 138,
   "id": "01294c86",
   "metadata": {},
   "outputs": [
    {
     "data": {
      "text/plain": [
       "array(['mean radius', 'mean texture', 'mean perimeter', 'mean area',\n",
       "       'mean smoothness', 'mean compactness', 'mean concavity',\n",
       "       'mean concave points', 'mean symmetry', 'mean fractal dimension',\n",
       "       'radius error', 'texture error', 'perimeter error', 'area error',\n",
       "       'smoothness error', 'compactness error', 'concavity error',\n",
       "       'concave points error', 'symmetry error',\n",
       "       'fractal dimension error', 'worst radius', 'worst texture',\n",
       "       'worst perimeter', 'worst area', 'worst smoothness',\n",
       "       'worst compactness', 'worst concavity', 'worst concave points',\n",
       "       'worst symmetry', 'worst fractal dimension'], dtype='<U23')"
      ]
     },
     "execution_count": 138,
     "metadata": {},
     "output_type": "execute_result"
    }
   ],
   "source": [
    "# List feature names\n",
    "data.feature_names"
   ]
  },
  {
   "cell_type": "code",
   "execution_count": 139,
   "id": "9c1347bc",
   "metadata": {},
   "outputs": [
    {
     "data": {
      "text/plain": [
       "array(['malignant', 'benign'], dtype='<U9')"
      ]
     },
     "execution_count": 139,
     "metadata": {},
     "output_type": "execute_result"
    }
   ],
   "source": [
    "# List label names\n",
    "data.target_names"
   ]
  },
  {
   "cell_type": "markdown",
   "id": "4d30e184",
   "metadata": {},
   "source": [
    "Train, Test data split "
   ]
  },
  {
   "cell_type": "code",
   "execution_count": 140,
   "id": "9dd73207",
   "metadata": {},
   "outputs": [],
   "source": [
    "from sklearn.model_selection import train_test_split\n",
    "X_train, X_test, y_train, y_test = train_test_split(data.data, data.target, random_state=42, test_size=0.25)"
   ]
  },
  {
   "cell_type": "code",
   "execution_count": 141,
   "id": "65f259b3",
   "metadata": {},
   "outputs": [],
   "source": [
    "from sklearn.ensemble import GradientBoostingClassifier"
   ]
  },
  {
   "cell_type": "code",
   "execution_count": 142,
   "id": "4321d783",
   "metadata": {},
   "outputs": [],
   "source": [
    "models = GradientBoostingClassifier(random_state=2022)"
   ]
  },
  {
   "cell_type": "code",
   "execution_count": 143,
   "id": "84b56500",
   "metadata": {},
   "outputs": [],
   "source": [
    "y_predict = models.fit(X_train, y_train).predict(X_test)"
   ]
  },
  {
   "cell_type": "code",
   "execution_count": 144,
   "id": "6d6b4577",
   "metadata": {},
   "outputs": [],
   "source": [
    "from sklearn.metrics import accuracy_score, classification_report, confusion_matrix, roc_curve"
   ]
  },
  {
   "cell_type": "code",
   "execution_count": 145,
   "id": "35e38e86",
   "metadata": {},
   "outputs": [
    {
     "data": {
      "text/plain": [
       "0.958041958041958"
      ]
     },
     "execution_count": 145,
     "metadata": {},
     "output_type": "execute_result"
    }
   ],
   "source": [
    "accuracy_score(y_test, y_predict)"
   ]
  },
  {
   "cell_type": "markdown",
   "id": "1881309c",
   "metadata": {},
   "source": [
    "Trying various classification models"
   ]
  },
  {
   "cell_type": "code",
   "execution_count": 146,
   "id": "c4e7d591",
   "metadata": {},
   "outputs": [],
   "source": [
    "from lazypredict.Supervised import LazyClassifier"
   ]
  },
  {
   "cell_type": "code",
   "execution_count": 147,
   "id": "017ded72",
   "metadata": {},
   "outputs": [
    {
     "name": "stderr",
     "output_type": "stream",
     "text": [
      " 28%|██████████████████████▉                                                            | 8/29 [00:00<00:00, 42.79it/s]"
     ]
    },
    {
     "name": "stdout",
     "output_type": "stream",
     "text": [
      "{'Model': 'AdaBoostClassifier', 'Accuracy': 0.951048951048951, 'Balanced Accuracy': 0.9570328755722014, 'ROC AUC': 0.9570328755722014, 'F1 Score': 0.951424553757154, 'Time taken': 0.10709810256958008}\n",
      "{'Model': 'BaggingClassifier', 'Accuracy': 0.9440559440559441, 'Balanced Accuracy': 0.9441323345817727, 'ROC AUC': 0.9441323345817727, 'F1 Score': 0.9442466624284804, 'Time taken': 0.0390019416809082}\n",
      "{'Model': 'BernoulliNB', 'Accuracy': 0.972027972027972, 'Balanced Accuracy': 0.9738868081564711, 'ROC AUC': 0.9738868081564711, 'F1 Score': 0.9721233312142404, 'Time taken': 0.006985902786254883}\n",
      "{'Model': 'CalibratedClassifierCV', 'Accuracy': 0.9790209790209791, 'Balanced Accuracy': 0.9758635039533916, 'ROC AUC': 0.9758635039533916, 'F1 Score': 0.9789815468299258, 'Time taken': 0.026000022888183594}\n",
      "{'Model': 'DecisionTreeClassifier', 'Accuracy': 0.951048951048951, 'Balanced Accuracy': 0.9497503121098627, 'ROC AUC': 0.9497503121098626, 'F1 Score': 0.95113521734576, 'Time taken': 0.012001514434814453}\n",
      "{'Model': 'DummyClassifier', 'Accuracy': 0.6223776223776224, 'Balanced Accuracy': 0.5, 'ROC AUC': 0.5, 'F1 Score': 0.4775138654448999, 'Time taken': 0.008002758026123047}\n",
      "{'Model': 'ExtraTreeClassifier', 'Accuracy': 0.951048951048951, 'Balanced Accuracy': 0.9497503121098627, 'ROC AUC': 0.9497503121098626, 'F1 Score': 0.95113521734576, 'Time taken': 0.007004261016845703}\n",
      "{'Model': 'ExtraTreesClassifier', 'Accuracy': 0.9790209790209791, 'Balanced Accuracy': 0.9758635039533916, 'ROC AUC': 0.9758635039533916, 'F1 Score': 0.9789815468299258, 'Time taken': 0.09001660346984863}\n"
     ]
    },
    {
     "name": "stderr",
     "output_type": "stream",
     "text": [
      "\r",
      " 45%|████████████████████████████████████▊                                             | 13/29 [00:00<00:00, 34.75it/s]"
     ]
    },
    {
     "name": "stdout",
     "output_type": "stream",
     "text": [
      "{'Model': 'GaussianNB', 'Accuracy': 0.951048951048951, 'Balanced Accuracy': 0.9497503121098627, 'ROC AUC': 0.9497503121098626, 'F1 Score': 0.95113521734576, 'Time taken': 0.010000228881835938}\n",
      "{'Model': 'KNeighborsClassifier', 'Accuracy': 0.958041958041958, 'Balanced Accuracy': 0.9553682896379525, 'ROC AUC': 0.9553682896379525, 'F1 Score': 0.958041958041958, 'Time taken': 0.03397846221923828}\n",
      "{'Model': 'LabelPropagation', 'Accuracy': 0.9440559440559441, 'Balanced Accuracy': 0.9404910528506034, 'ROC AUC': 0.9404910528506034, 'F1 Score': 0.9440559440559441, 'Time taken': 0.01800084114074707}\n",
      "{'Model': 'LabelSpreading', 'Accuracy': 0.9440559440559441, 'Balanced Accuracy': 0.9404910528506034, 'ROC AUC': 0.9404910528506034, 'F1 Score': 0.9440559440559441, 'Time taken': 0.02099919319152832}\n",
      "{'Model': 'LinearDiscriminantAnalysis', 'Accuracy': 0.965034965034965, 'Balanced Accuracy': 0.957344985434873, 'ROC AUC': 0.9573449854348731, 'F1 Score': 0.9648252300186002, 'Time taken': 0.011008501052856445}\n",
      "{'Model': 'LinearSVC', 'Accuracy': 0.965034965034965, 'Balanced Accuracy': 0.9682688306283812, 'ROC AUC': 0.9682688306283812, 'F1 Score': 0.9652077652077651, 'Time taken': 0.009998083114624023}\n",
      "{'Model': 'LogisticRegression', 'Accuracy': 0.9790209790209791, 'Balanced Accuracy': 0.9795047856845609, 'ROC AUC': 0.9795047856845609, 'F1 Score': 0.9790579502910399, 'Time taken': 0.011993408203125}\n",
      "{'Model': 'NearestCentroid', 'Accuracy': 0.9440559440559441, 'Balanced Accuracy': 0.9404910528506034, 'ROC AUC': 0.9404910528506034, 'F1 Score': 0.9440559440559441, 'Time taken': 0.008021354675292969}\n",
      "{'Model': 'NuSVC', 'Accuracy': 0.951048951048951, 'Balanced Accuracy': 0.9461090303786933, 'ROC AUC': 0.9461090303786934, 'F1 Score': 0.95095694260316, 'Time taken': 0.017976760864257812}\n",
      "{'Model': 'PassiveAggressiveClassifier', 'Accuracy': 0.972027972027972, 'Balanced Accuracy': 0.9738868081564711, 'ROC AUC': 0.9738868081564711, 'F1 Score': 0.9721233312142404, 'Time taken': 0.007999658584594727}\n",
      "{'Model': 'Perceptron', 'Accuracy': 0.965034965034965, 'Balanced Accuracy': 0.9646275488972118, 'ROC AUC': 0.9646275488972119, 'F1 Score': 0.9650965838184001, 'Time taken': 0.007010221481323242}\n",
      "{'Model': 'QuadraticDiscriminantAnalysis', 'Accuracy': 0.965034965034965, 'Balanced Accuracy': 0.9646275488972118, 'ROC AUC': 0.9646275488972119, 'F1 Score': 0.9650965838184001, 'Time taken': 0.008010625839233398}\n"
     ]
    },
    {
     "name": "stderr",
     "output_type": "stream",
     "text": [
      "100%|██████████████████████████████████████████████████████████████████████████████████| 29/29 [00:00<00:00, 37.95it/s]"
     ]
    },
    {
     "name": "stdout",
     "output_type": "stream",
     "text": [
      "{'Model': 'RandomForestClassifier', 'Accuracy': 0.965034965034965, 'Balanced Accuracy': 0.9609862671660424, 'ROC AUC': 0.9609862671660424, 'F1 Score': 0.9649692447165427, 'Time taken': 0.14297795295715332}\n",
      "{'Model': 'RidgeClassifier', 'Accuracy': 0.972027972027972, 'Balanced Accuracy': 0.9666042446941323, 'ROC AUC': 0.9666042446941323, 'F1 Score': 0.9719194851270323, 'Time taken': 0.011000633239746094}\n",
      "{'Model': 'RidgeClassifierCV', 'Accuracy': 0.972027972027972, 'Balanced Accuracy': 0.9666042446941323, 'ROC AUC': 0.9666042446941323, 'F1 Score': 0.9719194851270323, 'Time taken': 0.009999752044677734}\n",
      "{'Model': 'SGDClassifier', 'Accuracy': 0.958041958041958, 'Balanced Accuracy': 0.9626508531002913, 'ROC AUC': 0.9626508531002914, 'F1 Score': 0.9583089324468634, 'Time taken': 0.007007598876953125}\n",
      "{'Model': 'SVC', 'Accuracy': 0.972027972027972, 'Balanced Accuracy': 0.9702455264253016, 'ROC AUC': 0.9702455264253018, 'F1 Score': 0.972027972027972, 'Time taken': 0.010994434356689453}\n",
      "{'Model': 'XGBClassifier', 'Accuracy': 0.965034965034965, 'Balanced Accuracy': 0.9609862671660424, 'ROC AUC': 0.9609862671660424, 'F1 Score': 0.9649692447165427, 'Time taken': 0.04399991035461426}\n",
      "{'Model': 'LGBMClassifier', 'Accuracy': 0.958041958041958, 'Balanced Accuracy': 0.9590095713691219, 'ROC AUC': 0.9590095713691219, 'F1 Score': 0.9581849968213604, 'Time taken': 0.06799888610839844}\n"
     ]
    },
    {
     "name": "stderr",
     "output_type": "stream",
     "text": [
      "\n"
     ]
    },
    {
     "data": {
      "text/html": [
       "<div>\n",
       "<style scoped>\n",
       "    .dataframe tbody tr th:only-of-type {\n",
       "        vertical-align: middle;\n",
       "    }\n",
       "\n",
       "    .dataframe tbody tr th {\n",
       "        vertical-align: top;\n",
       "    }\n",
       "\n",
       "    .dataframe thead th {\n",
       "        text-align: right;\n",
       "    }\n",
       "</style>\n",
       "<table border=\"1\" class=\"dataframe\">\n",
       "  <thead>\n",
       "    <tr style=\"text-align: right;\">\n",
       "      <th></th>\n",
       "      <th>Accuracy</th>\n",
       "      <th>Balanced Accuracy</th>\n",
       "      <th>ROC AUC</th>\n",
       "      <th>F1 Score</th>\n",
       "      <th>Time Taken</th>\n",
       "    </tr>\n",
       "    <tr>\n",
       "      <th>Model</th>\n",
       "      <th></th>\n",
       "      <th></th>\n",
       "      <th></th>\n",
       "      <th></th>\n",
       "      <th></th>\n",
       "    </tr>\n",
       "  </thead>\n",
       "  <tbody>\n",
       "    <tr>\n",
       "      <th>LogisticRegression</th>\n",
       "      <td>0.98</td>\n",
       "      <td>0.98</td>\n",
       "      <td>0.98</td>\n",
       "      <td>0.98</td>\n",
       "      <td>0.01</td>\n",
       "    </tr>\n",
       "    <tr>\n",
       "      <th>CalibratedClassifierCV</th>\n",
       "      <td>0.98</td>\n",
       "      <td>0.98</td>\n",
       "      <td>0.98</td>\n",
       "      <td>0.98</td>\n",
       "      <td>0.03</td>\n",
       "    </tr>\n",
       "    <tr>\n",
       "      <th>ExtraTreesClassifier</th>\n",
       "      <td>0.98</td>\n",
       "      <td>0.98</td>\n",
       "      <td>0.98</td>\n",
       "      <td>0.98</td>\n",
       "      <td>0.09</td>\n",
       "    </tr>\n",
       "    <tr>\n",
       "      <th>BernoulliNB</th>\n",
       "      <td>0.97</td>\n",
       "      <td>0.97</td>\n",
       "      <td>0.97</td>\n",
       "      <td>0.97</td>\n",
       "      <td>0.01</td>\n",
       "    </tr>\n",
       "    <tr>\n",
       "      <th>PassiveAggressiveClassifier</th>\n",
       "      <td>0.97</td>\n",
       "      <td>0.97</td>\n",
       "      <td>0.97</td>\n",
       "      <td>0.97</td>\n",
       "      <td>0.01</td>\n",
       "    </tr>\n",
       "    <tr>\n",
       "      <th>SVC</th>\n",
       "      <td>0.97</td>\n",
       "      <td>0.97</td>\n",
       "      <td>0.97</td>\n",
       "      <td>0.97</td>\n",
       "      <td>0.01</td>\n",
       "    </tr>\n",
       "    <tr>\n",
       "      <th>LinearSVC</th>\n",
       "      <td>0.97</td>\n",
       "      <td>0.97</td>\n",
       "      <td>0.97</td>\n",
       "      <td>0.97</td>\n",
       "      <td>0.01</td>\n",
       "    </tr>\n",
       "    <tr>\n",
       "      <th>RidgeClassifierCV</th>\n",
       "      <td>0.97</td>\n",
       "      <td>0.97</td>\n",
       "      <td>0.97</td>\n",
       "      <td>0.97</td>\n",
       "      <td>0.01</td>\n",
       "    </tr>\n",
       "    <tr>\n",
       "      <th>RidgeClassifier</th>\n",
       "      <td>0.97</td>\n",
       "      <td>0.97</td>\n",
       "      <td>0.97</td>\n",
       "      <td>0.97</td>\n",
       "      <td>0.01</td>\n",
       "    </tr>\n",
       "    <tr>\n",
       "      <th>QuadraticDiscriminantAnalysis</th>\n",
       "      <td>0.97</td>\n",
       "      <td>0.96</td>\n",
       "      <td>0.96</td>\n",
       "      <td>0.97</td>\n",
       "      <td>0.01</td>\n",
       "    </tr>\n",
       "    <tr>\n",
       "      <th>Perceptron</th>\n",
       "      <td>0.97</td>\n",
       "      <td>0.96</td>\n",
       "      <td>0.96</td>\n",
       "      <td>0.97</td>\n",
       "      <td>0.01</td>\n",
       "    </tr>\n",
       "    <tr>\n",
       "      <th>SGDClassifier</th>\n",
       "      <td>0.96</td>\n",
       "      <td>0.96</td>\n",
       "      <td>0.96</td>\n",
       "      <td>0.96</td>\n",
       "      <td>0.01</td>\n",
       "    </tr>\n",
       "    <tr>\n",
       "      <th>XGBClassifier</th>\n",
       "      <td>0.97</td>\n",
       "      <td>0.96</td>\n",
       "      <td>0.96</td>\n",
       "      <td>0.96</td>\n",
       "      <td>0.04</td>\n",
       "    </tr>\n",
       "    <tr>\n",
       "      <th>RandomForestClassifier</th>\n",
       "      <td>0.97</td>\n",
       "      <td>0.96</td>\n",
       "      <td>0.96</td>\n",
       "      <td>0.96</td>\n",
       "      <td>0.14</td>\n",
       "    </tr>\n",
       "    <tr>\n",
       "      <th>LGBMClassifier</th>\n",
       "      <td>0.96</td>\n",
       "      <td>0.96</td>\n",
       "      <td>0.96</td>\n",
       "      <td>0.96</td>\n",
       "      <td>0.07</td>\n",
       "    </tr>\n",
       "    <tr>\n",
       "      <th>LinearDiscriminantAnalysis</th>\n",
       "      <td>0.97</td>\n",
       "      <td>0.96</td>\n",
       "      <td>0.96</td>\n",
       "      <td>0.96</td>\n",
       "      <td>0.01</td>\n",
       "    </tr>\n",
       "    <tr>\n",
       "      <th>AdaBoostClassifier</th>\n",
       "      <td>0.95</td>\n",
       "      <td>0.96</td>\n",
       "      <td>0.96</td>\n",
       "      <td>0.95</td>\n",
       "      <td>0.11</td>\n",
       "    </tr>\n",
       "    <tr>\n",
       "      <th>KNeighborsClassifier</th>\n",
       "      <td>0.96</td>\n",
       "      <td>0.96</td>\n",
       "      <td>0.96</td>\n",
       "      <td>0.96</td>\n",
       "      <td>0.03</td>\n",
       "    </tr>\n",
       "    <tr>\n",
       "      <th>GaussianNB</th>\n",
       "      <td>0.95</td>\n",
       "      <td>0.95</td>\n",
       "      <td>0.95</td>\n",
       "      <td>0.95</td>\n",
       "      <td>0.01</td>\n",
       "    </tr>\n",
       "    <tr>\n",
       "      <th>ExtraTreeClassifier</th>\n",
       "      <td>0.95</td>\n",
       "      <td>0.95</td>\n",
       "      <td>0.95</td>\n",
       "      <td>0.95</td>\n",
       "      <td>0.01</td>\n",
       "    </tr>\n",
       "    <tr>\n",
       "      <th>DecisionTreeClassifier</th>\n",
       "      <td>0.95</td>\n",
       "      <td>0.95</td>\n",
       "      <td>0.95</td>\n",
       "      <td>0.95</td>\n",
       "      <td>0.01</td>\n",
       "    </tr>\n",
       "    <tr>\n",
       "      <th>NuSVC</th>\n",
       "      <td>0.95</td>\n",
       "      <td>0.95</td>\n",
       "      <td>0.95</td>\n",
       "      <td>0.95</td>\n",
       "      <td>0.02</td>\n",
       "    </tr>\n",
       "    <tr>\n",
       "      <th>BaggingClassifier</th>\n",
       "      <td>0.94</td>\n",
       "      <td>0.94</td>\n",
       "      <td>0.94</td>\n",
       "      <td>0.94</td>\n",
       "      <td>0.04</td>\n",
       "    </tr>\n",
       "    <tr>\n",
       "      <th>NearestCentroid</th>\n",
       "      <td>0.94</td>\n",
       "      <td>0.94</td>\n",
       "      <td>0.94</td>\n",
       "      <td>0.94</td>\n",
       "      <td>0.01</td>\n",
       "    </tr>\n",
       "    <tr>\n",
       "      <th>LabelSpreading</th>\n",
       "      <td>0.94</td>\n",
       "      <td>0.94</td>\n",
       "      <td>0.94</td>\n",
       "      <td>0.94</td>\n",
       "      <td>0.02</td>\n",
       "    </tr>\n",
       "    <tr>\n",
       "      <th>LabelPropagation</th>\n",
       "      <td>0.94</td>\n",
       "      <td>0.94</td>\n",
       "      <td>0.94</td>\n",
       "      <td>0.94</td>\n",
       "      <td>0.02</td>\n",
       "    </tr>\n",
       "    <tr>\n",
       "      <th>DummyClassifier</th>\n",
       "      <td>0.62</td>\n",
       "      <td>0.50</td>\n",
       "      <td>0.50</td>\n",
       "      <td>0.48</td>\n",
       "      <td>0.01</td>\n",
       "    </tr>\n",
       "  </tbody>\n",
       "</table>\n",
       "</div>"
      ],
      "text/plain": [
       "                               Accuracy  Balanced Accuracy  ROC AUC  F1 Score  \\\n",
       "Model                                                                           \n",
       "LogisticRegression                 0.98               0.98     0.98      0.98   \n",
       "CalibratedClassifierCV             0.98               0.98     0.98      0.98   \n",
       "ExtraTreesClassifier               0.98               0.98     0.98      0.98   \n",
       "BernoulliNB                        0.97               0.97     0.97      0.97   \n",
       "PassiveAggressiveClassifier        0.97               0.97     0.97      0.97   \n",
       "SVC                                0.97               0.97     0.97      0.97   \n",
       "LinearSVC                          0.97               0.97     0.97      0.97   \n",
       "RidgeClassifierCV                  0.97               0.97     0.97      0.97   \n",
       "RidgeClassifier                    0.97               0.97     0.97      0.97   \n",
       "QuadraticDiscriminantAnalysis      0.97               0.96     0.96      0.97   \n",
       "Perceptron                         0.97               0.96     0.96      0.97   \n",
       "SGDClassifier                      0.96               0.96     0.96      0.96   \n",
       "XGBClassifier                      0.97               0.96     0.96      0.96   \n",
       "RandomForestClassifier             0.97               0.96     0.96      0.96   \n",
       "LGBMClassifier                     0.96               0.96     0.96      0.96   \n",
       "LinearDiscriminantAnalysis         0.97               0.96     0.96      0.96   \n",
       "AdaBoostClassifier                 0.95               0.96     0.96      0.95   \n",
       "KNeighborsClassifier               0.96               0.96     0.96      0.96   \n",
       "GaussianNB                         0.95               0.95     0.95      0.95   \n",
       "ExtraTreeClassifier                0.95               0.95     0.95      0.95   \n",
       "DecisionTreeClassifier             0.95               0.95     0.95      0.95   \n",
       "NuSVC                              0.95               0.95     0.95      0.95   \n",
       "BaggingClassifier                  0.94               0.94     0.94      0.94   \n",
       "NearestCentroid                    0.94               0.94     0.94      0.94   \n",
       "LabelSpreading                     0.94               0.94     0.94      0.94   \n",
       "LabelPropagation                   0.94               0.94     0.94      0.94   \n",
       "DummyClassifier                    0.62               0.50     0.50      0.48   \n",
       "\n",
       "                               Time Taken  \n",
       "Model                                      \n",
       "LogisticRegression                   0.01  \n",
       "CalibratedClassifierCV               0.03  \n",
       "ExtraTreesClassifier                 0.09  \n",
       "BernoulliNB                          0.01  \n",
       "PassiveAggressiveClassifier          0.01  \n",
       "SVC                                  0.01  \n",
       "LinearSVC                            0.01  \n",
       "RidgeClassifierCV                    0.01  \n",
       "RidgeClassifier                      0.01  \n",
       "QuadraticDiscriminantAnalysis        0.01  \n",
       "Perceptron                           0.01  \n",
       "SGDClassifier                        0.01  \n",
       "XGBClassifier                        0.04  \n",
       "RandomForestClassifier               0.14  \n",
       "LGBMClassifier                       0.07  \n",
       "LinearDiscriminantAnalysis           0.01  \n",
       "AdaBoostClassifier                   0.11  \n",
       "KNeighborsClassifier                 0.03  \n",
       "GaussianNB                           0.01  \n",
       "ExtraTreeClassifier                  0.01  \n",
       "DecisionTreeClassifier               0.01  \n",
       "NuSVC                                0.02  \n",
       "BaggingClassifier                    0.04  \n",
       "NearestCentroid                      0.01  \n",
       "LabelSpreading                       0.02  \n",
       "LabelPropagation                     0.02  \n",
       "DummyClassifier                      0.01  "
      ]
     },
     "execution_count": 147,
     "metadata": {},
     "output_type": "execute_result"
    }
   ],
   "source": [
    "clf = LazyClassifier(verbose=2, predictions=True)\n",
    "models, predictions = clf.fit(X_train, X_test, y_train, y_test)\n",
    "\n",
    "models"
   ]
  },
  {
   "cell_type": "markdown",
   "id": "419c5a10",
   "metadata": {},
   "source": [
    "\n",
    "\n",
    "\n",
    "\n",
    "SVC accuracy score results run by LazyClassifier is 0.97.\n",
    "\n",
    "\n",
    "This experiment is carried if Bayesian optimization can detect better SVC hyperparameters.\n",
    "\n",
    "\n",
    "\n",
    "\n"
   ]
  },
  {
   "cell_type": "code",
   "execution_count": 199,
   "id": "44071fb6",
   "metadata": {},
   "outputs": [],
   "source": [
    "from sklearn.pipeline import Pipeline\n",
    "from sklearn.preprocessing import StandardScaler\n",
    "from sklearn.svm import SVC\n",
    "from skopt import BayesSearchCV"
   ]
  },
  {
   "cell_type": "code",
   "execution_count": 200,
   "id": "63cfc7e7",
   "metadata": {},
   "outputs": [],
   "source": [
    "pipe = Pipeline(steps=[\n",
    "    (\"preprocessor\", StandardScaler()),\n",
    "    (\"classifier\", SVC()),\n",
    "])"
   ]
  },
  {
   "cell_type": "code",
   "execution_count": 201,
   "id": "42ce111f",
   "metadata": {},
   "outputs": [],
   "source": [
    "y_predict = pipe.fit(X_train, y_train).predict(X_test)"
   ]
  },
  {
   "cell_type": "code",
   "execution_count": 202,
   "id": "4e6f3c08",
   "metadata": {},
   "outputs": [
    {
     "data": {
      "text/plain": [
       "0.972027972027972"
      ]
     },
     "execution_count": 202,
     "metadata": {},
     "output_type": "execute_result"
    }
   ],
   "source": [
    "accuracy_score(y_test, y_predict)"
   ]
  },
  {
   "cell_type": "code",
   "execution_count": 203,
   "id": "ca48a6d9",
   "metadata": {},
   "outputs": [
    {
     "data": {
      "text/plain": [
       "{'C': 1.0,\n",
       " 'break_ties': False,\n",
       " 'cache_size': 200,\n",
       " 'class_weight': None,\n",
       " 'coef0': 0.0,\n",
       " 'decision_function_shape': 'ovr',\n",
       " 'degree': 3,\n",
       " 'gamma': 'scale',\n",
       " 'kernel': 'rbf',\n",
       " 'max_iter': -1,\n",
       " 'probability': False,\n",
       " 'random_state': None,\n",
       " 'shrinking': True,\n",
       " 'tol': 0.001,\n",
       " 'verbose': False}"
      ]
     },
     "execution_count": 203,
     "metadata": {},
     "output_type": "execute_result"
    }
   ],
   "source": [
    "# To get hyperparameters for the result of accuracy\n",
    "pipe['classifier'].get_params()"
   ]
  },
  {
   "cell_type": "code",
   "execution_count": 204,
   "id": "2edb64ad",
   "metadata": {},
   "outputs": [],
   "source": [
    "opt = BayesSearchCV(pipe,\n",
    "                   {\n",
    "                       'classifier__C': (0.1, 10),\n",
    "                       'classifier__gamma': (0.01, 10),\n",
    "                       'classifier__degree': (2,10),\n",
    "                       'classifier__kernel': ['linear', 'poly', 'rbf']\n",
    "                    \n",
    "                   },\n",
    "                    n_iter=10,\n",
    "                    cv=10\n",
    "                   )"
   ]
  },
  {
   "cell_type": "code",
   "execution_count": 205,
   "id": "442e4136",
   "metadata": {},
   "outputs": [
    {
     "data": {
      "text/html": [
       "<style>#sk-container-id-16 {color: black;background-color: white;}#sk-container-id-16 pre{padding: 0;}#sk-container-id-16 div.sk-toggleable {background-color: white;}#sk-container-id-16 label.sk-toggleable__label {cursor: pointer;display: block;width: 100%;margin-bottom: 0;padding: 0.3em;box-sizing: border-box;text-align: center;}#sk-container-id-16 label.sk-toggleable__label-arrow:before {content: \"▸\";float: left;margin-right: 0.25em;color: #696969;}#sk-container-id-16 label.sk-toggleable__label-arrow:hover:before {color: black;}#sk-container-id-16 div.sk-estimator:hover label.sk-toggleable__label-arrow:before {color: black;}#sk-container-id-16 div.sk-toggleable__content {max-height: 0;max-width: 0;overflow: hidden;text-align: left;background-color: #f0f8ff;}#sk-container-id-16 div.sk-toggleable__content pre {margin: 0.2em;color: black;border-radius: 0.25em;background-color: #f0f8ff;}#sk-container-id-16 input.sk-toggleable__control:checked~div.sk-toggleable__content {max-height: 200px;max-width: 100%;overflow: auto;}#sk-container-id-16 input.sk-toggleable__control:checked~label.sk-toggleable__label-arrow:before {content: \"▾\";}#sk-container-id-16 div.sk-estimator input.sk-toggleable__control:checked~label.sk-toggleable__label {background-color: #d4ebff;}#sk-container-id-16 div.sk-label input.sk-toggleable__control:checked~label.sk-toggleable__label {background-color: #d4ebff;}#sk-container-id-16 input.sk-hidden--visually {border: 0;clip: rect(1px 1px 1px 1px);clip: rect(1px, 1px, 1px, 1px);height: 1px;margin: -1px;overflow: hidden;padding: 0;position: absolute;width: 1px;}#sk-container-id-16 div.sk-estimator {font-family: monospace;background-color: #f0f8ff;border: 1px dotted black;border-radius: 0.25em;box-sizing: border-box;margin-bottom: 0.5em;}#sk-container-id-16 div.sk-estimator:hover {background-color: #d4ebff;}#sk-container-id-16 div.sk-parallel-item::after {content: \"\";width: 100%;border-bottom: 1px solid gray;flex-grow: 1;}#sk-container-id-16 div.sk-label:hover label.sk-toggleable__label {background-color: #d4ebff;}#sk-container-id-16 div.sk-serial::before {content: \"\";position: absolute;border-left: 1px solid gray;box-sizing: border-box;top: 0;bottom: 0;left: 50%;z-index: 0;}#sk-container-id-16 div.sk-serial {display: flex;flex-direction: column;align-items: center;background-color: white;padding-right: 0.2em;padding-left: 0.2em;position: relative;}#sk-container-id-16 div.sk-item {position: relative;z-index: 1;}#sk-container-id-16 div.sk-parallel {display: flex;align-items: stretch;justify-content: center;background-color: white;position: relative;}#sk-container-id-16 div.sk-item::before, #sk-container-id-16 div.sk-parallel-item::before {content: \"\";position: absolute;border-left: 1px solid gray;box-sizing: border-box;top: 0;bottom: 0;left: 50%;z-index: -1;}#sk-container-id-16 div.sk-parallel-item {display: flex;flex-direction: column;z-index: 1;position: relative;background-color: white;}#sk-container-id-16 div.sk-parallel-item:first-child::after {align-self: flex-end;width: 50%;}#sk-container-id-16 div.sk-parallel-item:last-child::after {align-self: flex-start;width: 50%;}#sk-container-id-16 div.sk-parallel-item:only-child::after {width: 0;}#sk-container-id-16 div.sk-dashed-wrapped {border: 1px dashed gray;margin: 0 0.4em 0.5em 0.4em;box-sizing: border-box;padding-bottom: 0.4em;background-color: white;}#sk-container-id-16 div.sk-label label {font-family: monospace;font-weight: bold;display: inline-block;line-height: 1.2em;}#sk-container-id-16 div.sk-label-container {text-align: center;}#sk-container-id-16 div.sk-container {/* jupyter's `normalize.less` sets `[hidden] { display: none; }` but bootstrap.min.css set `[hidden] { display: none !important; }` so we also need the `!important` here to be able to override the default hidden behavior on the sphinx rendered scikit-learn.org. See: https://github.com/scikit-learn/scikit-learn/issues/21755 */display: inline-block !important;position: relative;}#sk-container-id-16 div.sk-text-repr-fallback {display: none;}</style><div id=\"sk-container-id-16\" class=\"sk-top-container\"><div class=\"sk-text-repr-fallback\"><pre>BayesSearchCV(cv=10,\n",
       "              estimator=Pipeline(steps=[(&#x27;preprocessor&#x27;, StandardScaler()),\n",
       "                                        (&#x27;classifier&#x27;, SVC())]),\n",
       "              n_iter=10,\n",
       "              search_spaces={&#x27;classifier__C&#x27;: (0.1, 10),\n",
       "                             &#x27;classifier__degree&#x27;: (2, 10),\n",
       "                             &#x27;classifier__gamma&#x27;: (0.01, 10),\n",
       "                             &#x27;classifier__kernel&#x27;: [&#x27;linear&#x27;, &#x27;poly&#x27;, &#x27;rbf&#x27;]})</pre><b>In a Jupyter environment, please rerun this cell to show the HTML representation or trust the notebook. <br />On GitHub, the HTML representation is unable to render, please try loading this page with nbviewer.org.</b></div><div class=\"sk-container\" hidden><div class=\"sk-item sk-dashed-wrapped\"><div class=\"sk-label-container\"><div class=\"sk-label sk-toggleable\"><input class=\"sk-toggleable__control sk-hidden--visually\" id=\"sk-estimator-id-60\" type=\"checkbox\" ><label for=\"sk-estimator-id-60\" class=\"sk-toggleable__label sk-toggleable__label-arrow\">BayesSearchCV</label><div class=\"sk-toggleable__content\"><pre>BayesSearchCV(cv=10,\n",
       "              estimator=Pipeline(steps=[(&#x27;preprocessor&#x27;, StandardScaler()),\n",
       "                                        (&#x27;classifier&#x27;, SVC())]),\n",
       "              n_iter=10,\n",
       "              search_spaces={&#x27;classifier__C&#x27;: (0.1, 10),\n",
       "                             &#x27;classifier__degree&#x27;: (2, 10),\n",
       "                             &#x27;classifier__gamma&#x27;: (0.01, 10),\n",
       "                             &#x27;classifier__kernel&#x27;: [&#x27;linear&#x27;, &#x27;poly&#x27;, &#x27;rbf&#x27;]})</pre></div></div></div><div class=\"sk-parallel\"><div class=\"sk-parallel-item\"><div class=\"sk-item\"><div class=\"sk-label-container\"><div class=\"sk-label sk-toggleable\"><input class=\"sk-toggleable__control sk-hidden--visually\" id=\"sk-estimator-id-61\" type=\"checkbox\" ><label for=\"sk-estimator-id-61\" class=\"sk-toggleable__label sk-toggleable__label-arrow\">estimator: Pipeline</label><div class=\"sk-toggleable__content\"><pre>Pipeline(steps=[(&#x27;preprocessor&#x27;, StandardScaler()), (&#x27;classifier&#x27;, SVC())])</pre></div></div></div><div class=\"sk-serial\"><div class=\"sk-item\"><div class=\"sk-serial\"><div class=\"sk-item\"><div class=\"sk-estimator sk-toggleable\"><input class=\"sk-toggleable__control sk-hidden--visually\" id=\"sk-estimator-id-62\" type=\"checkbox\" ><label for=\"sk-estimator-id-62\" class=\"sk-toggleable__label sk-toggleable__label-arrow\">StandardScaler</label><div class=\"sk-toggleable__content\"><pre>StandardScaler()</pre></div></div></div><div class=\"sk-item\"><div class=\"sk-estimator sk-toggleable\"><input class=\"sk-toggleable__control sk-hidden--visually\" id=\"sk-estimator-id-63\" type=\"checkbox\" ><label for=\"sk-estimator-id-63\" class=\"sk-toggleable__label sk-toggleable__label-arrow\">SVC</label><div class=\"sk-toggleable__content\"><pre>SVC()</pre></div></div></div></div></div></div></div></div></div></div></div></div>"
      ],
      "text/plain": [
       "BayesSearchCV(cv=10,\n",
       "              estimator=Pipeline(steps=[('preprocessor', StandardScaler()),\n",
       "                                        ('classifier', SVC())]),\n",
       "              n_iter=10,\n",
       "              search_spaces={'classifier__C': (0.1, 10),\n",
       "                             'classifier__degree': (2, 10),\n",
       "                             'classifier__gamma': (0.01, 10),\n",
       "                             'classifier__kernel': ['linear', 'poly', 'rbf']})"
      ]
     },
     "execution_count": 205,
     "metadata": {},
     "output_type": "execute_result"
    }
   ],
   "source": [
    "opt.fit(X_train, y_train)"
   ]
  },
  {
   "cell_type": "code",
   "execution_count": 206,
   "id": "d9c86dcf",
   "metadata": {},
   "outputs": [
    {
     "data": {
      "text/plain": [
       "OrderedDict([('classifier__C', 6.012292137441111),\n",
       "             ('classifier__degree', 10),\n",
       "             ('classifier__gamma', 8.475255973499433),\n",
       "             ('classifier__kernel', 'linear')])"
      ]
     },
     "execution_count": 206,
     "metadata": {},
     "output_type": "execute_result"
    }
   ],
   "source": [
    "opt.best_params_"
   ]
  },
  {
   "cell_type": "code",
   "execution_count": 207,
   "id": "7f125323",
   "metadata": {},
   "outputs": [
    {
     "data": {
      "text/plain": [
       "0.967109634551495"
      ]
     },
     "execution_count": 207,
     "metadata": {},
     "output_type": "execute_result"
    }
   ],
   "source": [
    "opt.best_score_"
   ]
  },
  {
   "cell_type": "code",
   "execution_count": 208,
   "id": "a4bd81f3",
   "metadata": {},
   "outputs": [
    {
     "data": {
      "text/plain": [
       "0.972027972027972"
      ]
     },
     "execution_count": 208,
     "metadata": {},
     "output_type": "execute_result"
    }
   ],
   "source": [
    "accuracy_score(y_test, y_predict)"
   ]
  },
  {
   "cell_type": "code",
   "execution_count": 209,
   "id": "4ee97be2",
   "metadata": {},
   "outputs": [
    {
     "data": {
      "text/plain": [
       "array([[52,  2],\n",
       "       [ 2, 87]], dtype=int64)"
      ]
     },
     "execution_count": 209,
     "metadata": {},
     "output_type": "execute_result"
    }
   ],
   "source": [
    "confusion_matrix(y_predict, y_test)"
   ]
  },
  {
   "cell_type": "code",
   "execution_count": 210,
   "id": "b1d6712e",
   "metadata": {},
   "outputs": [
    {
     "data": {
      "text/plain": [
       "array([[52,  2],\n",
       "       [ 2, 87]], dtype=int64)"
      ]
     },
     "execution_count": 210,
     "metadata": {},
     "output_type": "execute_result"
    }
   ],
   "source": [
    "confusion_matrix(y_test, y_predict)"
   ]
  },
  {
   "cell_type": "code",
   "execution_count": 211,
   "id": "59016c9c",
   "metadata": {},
   "outputs": [
    {
     "name": "stdout",
     "output_type": "stream",
     "text": [
      "              precision    recall  f1-score   support\n",
      "\n",
      "           0       0.96      0.96      0.96        54\n",
      "           1       0.98      0.98      0.98        89\n",
      "\n",
      "    accuracy                           0.97       143\n",
      "   macro avg       0.97      0.97      0.97       143\n",
      "weighted avg       0.97      0.97      0.97       143\n",
      "\n"
     ]
    }
   ],
   "source": [
    "print(classification_report(y_test, y_predict))"
   ]
  },
  {
   "cell_type": "code",
   "execution_count": 213,
   "id": "b8f8177e",
   "metadata": {},
   "outputs": [
    {
     "data": {
      "image/png": "[encoded data removed]",
      "text/plain": [
       "<Figure size 432x288 with 1 Axes>"
      ]
     },
     "metadata": {
      "needs_background": "light"
     },
     "output_type": "display_data"
    }
   ],
   "source": [
    "fpr, tpr, _ = roc_curve(y_test,  y_predict)\n",
    "\n",
    "#Plot ROC curve\n",
    "plt.plot(fpr,tpr)\n",
    "plt.ylabel('True Positive Rate')\n",
    "plt.xlabel('False Positive Rate')\n",
    "plt.show()\n"
   ]
  }
 ],
 "metadata": {
  "kernelspec": {
   "display_name": "Python 3 (ipykernel)",
   "language": "python",
   "name": "python3"
  },
  "language_info": {
   "codemirror_mode": {
    "name": "ipython",
    "version": 3
   },
   "file_extension": ".py",
   "mimetype": "text/x-python",
   "name": "python",
   "nbconvert_exporter": "python",
   "pygments_lexer": "ipython3",
   "version": "3.9.6"
  }
 },
 "nbformat": 4,
 "nbformat_minor": 5
}
